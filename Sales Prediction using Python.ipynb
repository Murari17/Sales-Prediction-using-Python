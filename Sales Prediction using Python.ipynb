{
 "cells": [
  {
   "cell_type": "code",
   "execution_count": 4,
   "id": "abe49bbd-75ef-4f95-9474-9b28f18c3375",
   "metadata": {},
   "outputs": [],
   "source": [
    "import numpy as np\n",
    "import pandas as pd\n",
    "import os\n",
    "df = pd.read_csv(\"C:/Users/murar/OneDrive/Desktop/ml_data/Advertising.csv\")"
   ]
  },
  {
   "cell_type": "code",
   "execution_count": 6,
   "id": "9a3ec51b-cc3e-48d1-a031-c4bb391d0506",
   "metadata": {},
   "outputs": [
    {
     "data": {
      "text/html": [
       "<div>\n",
       "<style scoped>\n",
       "    .dataframe tbody tr th:only-of-type {\n",
       "        vertical-align: middle;\n",
       "    }\n",
       "\n",
       "    .dataframe tbody tr th {\n",
       "        vertical-align: top;\n",
       "    }\n",
       "\n",
       "    .dataframe thead th {\n",
       "        text-align: right;\n",
       "    }\n",
       "</style>\n",
       "<table border=\"1\" class=\"dataframe\">\n",
       "  <thead>\n",
       "    <tr style=\"text-align: right;\">\n",
       "      <th></th>\n",
       "      <th>Unnamed: 0</th>\n",
       "      <th>TV</th>\n",
       "      <th>Radio</th>\n",
       "      <th>Newspaper</th>\n",
       "      <th>Sales</th>\n",
       "    </tr>\n",
       "  </thead>\n",
       "  <tbody>\n",
       "    <tr>\n",
       "      <th>0</th>\n",
       "      <td>1</td>\n",
       "      <td>230.1</td>\n",
       "      <td>37.8</td>\n",
       "      <td>69.2</td>\n",
       "      <td>22.1</td>\n",
       "    </tr>\n",
       "    <tr>\n",
       "      <th>1</th>\n",
       "      <td>2</td>\n",
       "      <td>44.5</td>\n",
       "      <td>39.3</td>\n",
       "      <td>45.1</td>\n",
       "      <td>10.4</td>\n",
       "    </tr>\n",
       "    <tr>\n",
       "      <th>2</th>\n",
       "      <td>3</td>\n",
       "      <td>17.2</td>\n",
       "      <td>45.9</td>\n",
       "      <td>69.3</td>\n",
       "      <td>9.3</td>\n",
       "    </tr>\n",
       "    <tr>\n",
       "      <th>3</th>\n",
       "      <td>4</td>\n",
       "      <td>151.5</td>\n",
       "      <td>41.3</td>\n",
       "      <td>58.5</td>\n",
       "      <td>18.5</td>\n",
       "    </tr>\n",
       "    <tr>\n",
       "      <th>4</th>\n",
       "      <td>5</td>\n",
       "      <td>180.8</td>\n",
       "      <td>10.8</td>\n",
       "      <td>58.4</td>\n",
       "      <td>12.9</td>\n",
       "    </tr>\n",
       "  </tbody>\n",
       "</table>\n",
       "</div>"
      ],
      "text/plain": [
       "   Unnamed: 0     TV  Radio  Newspaper  Sales\n",
       "0           1  230.1   37.8       69.2   22.1\n",
       "1           2   44.5   39.3       45.1   10.4\n",
       "2           3   17.2   45.9       69.3    9.3\n",
       "3           4  151.5   41.3       58.5   18.5\n",
       "4           5  180.8   10.8       58.4   12.9"
      ]
     },
     "execution_count": 6,
     "metadata": {},
     "output_type": "execute_result"
    }
   ],
   "source": [
    "df.head()"
   ]
  },
  {
   "cell_type": "code",
   "execution_count": 8,
   "id": "7dc387b5-5514-4d2c-ad6d-c63ce5ce53cb",
   "metadata": {},
   "outputs": [
    {
     "name": "stdout",
     "output_type": "stream",
     "text": [
      "[['1.0', '230.1', '37.8', '69.2', '22.1'], ['2.0', '44.5', '39.3', '45.1', '10.4'], ['3.0', '17.2', '45.9', '69.3', '9.3'], ['4.0', '151.5', '41.3', '58.5', '18.5'], ['5.0', '180.8', '10.8', '58.4', '12.9']]\n"
     ]
    }
   ],
   "source": [
    "transactions = []\n",
    "for i in range(0, df.shape[0]):\n",
    "    transactions.append([str(item) for item in df.iloc[i] if str(item) != 'nan'])\n",
    "print(transactions[:5])"
   ]
  },
  {
   "cell_type": "code",
   "execution_count": 10,
   "id": "f325c736-65e2-4fc5-b3ea-424d075362ab",
   "metadata": {},
   "outputs": [
    {
     "name": "stdout",
     "output_type": "stream",
     "text": [
      "Collecting mlxtend\n",
      "  Downloading mlxtend-0.23.1-py3-none-any.whl.metadata (7.3 kB)\n",
      "Requirement already satisfied: scipy>=1.2.1 in c:\\users\\murar\\anaconda3\\lib\\site-packages (from mlxtend) (1.11.4)\n",
      "Requirement already satisfied: numpy>=1.16.2 in c:\\users\\murar\\anaconda3\\lib\\site-packages (from mlxtend) (1.26.4)\n",
      "Requirement already satisfied: pandas>=0.24.2 in c:\\users\\murar\\anaconda3\\lib\\site-packages (from mlxtend) (2.1.4)\n",
      "Requirement already satisfied: scikit-learn>=1.0.2 in c:\\users\\murar\\anaconda3\\lib\\site-packages (from mlxtend) (1.2.2)\n",
      "Requirement already satisfied: matplotlib>=3.0.0 in c:\\users\\murar\\anaconda3\\lib\\site-packages (from mlxtend) (3.8.0)\n",
      "Requirement already satisfied: joblib>=0.13.2 in c:\\users\\murar\\anaconda3\\lib\\site-packages (from mlxtend) (1.2.0)\n",
      "Requirement already satisfied: contourpy>=1.0.1 in c:\\users\\murar\\anaconda3\\lib\\site-packages (from matplotlib>=3.0.0->mlxtend) (1.2.0)\n",
      "Requirement already satisfied: cycler>=0.10 in c:\\users\\murar\\anaconda3\\lib\\site-packages (from matplotlib>=3.0.0->mlxtend) (0.11.0)\n",
      "Requirement already satisfied: fonttools>=4.22.0 in c:\\users\\murar\\anaconda3\\lib\\site-packages (from matplotlib>=3.0.0->mlxtend) (4.25.0)\n",
      "Requirement already satisfied: kiwisolver>=1.0.1 in c:\\users\\murar\\anaconda3\\lib\\site-packages (from matplotlib>=3.0.0->mlxtend) (1.4.4)\n",
      "Requirement already satisfied: packaging>=20.0 in c:\\users\\murar\\anaconda3\\lib\\site-packages (from matplotlib>=3.0.0->mlxtend) (23.1)\n",
      "Requirement already satisfied: pillow>=6.2.0 in c:\\users\\murar\\anaconda3\\lib\\site-packages (from matplotlib>=3.0.0->mlxtend) (10.2.0)\n",
      "Requirement already satisfied: pyparsing>=2.3.1 in c:\\users\\murar\\anaconda3\\lib\\site-packages (from matplotlib>=3.0.0->mlxtend) (3.0.9)\n",
      "Requirement already satisfied: python-dateutil>=2.7 in c:\\users\\murar\\anaconda3\\lib\\site-packages (from matplotlib>=3.0.0->mlxtend) (2.8.2)\n",
      "Requirement already satisfied: pytz>=2020.1 in c:\\users\\murar\\anaconda3\\lib\\site-packages (from pandas>=0.24.2->mlxtend) (2023.3.post1)\n",
      "Requirement already satisfied: tzdata>=2022.1 in c:\\users\\murar\\anaconda3\\lib\\site-packages (from pandas>=0.24.2->mlxtend) (2023.3)\n",
      "Requirement already satisfied: threadpoolctl>=2.0.0 in c:\\users\\murar\\anaconda3\\lib\\site-packages (from scikit-learn>=1.0.2->mlxtend) (2.2.0)\n",
      "Requirement already satisfied: six>=1.5 in c:\\users\\murar\\anaconda3\\lib\\site-packages (from python-dateutil>=2.7->matplotlib>=3.0.0->mlxtend) (1.16.0)\n",
      "Downloading mlxtend-0.23.1-py3-none-any.whl (1.4 MB)\n",
      "   ---------------------------------------- 0.0/1.4 MB ? eta -:--:--\n",
      "   ---------------------------------------- 0.0/1.4 MB ? eta -:--:--\n",
      "   --- ------------------------------------ 0.1/1.4 MB 2.1 MB/s eta 0:00:01\n",
      "   ------------ --------------------------- 0.4/1.4 MB 4.6 MB/s eta 0:00:01\n",
      "   ------------------------------- -------- 1.1/1.4 MB 7.2 MB/s eta 0:00:01\n",
      "   ---------------------------------------- 1.4/1.4 MB 7.7 MB/s eta 0:00:00\n",
      "Installing collected packages: mlxtend\n",
      "Successfully installed mlxtend-0.23.1\n"
     ]
    }
   ],
   "source": [
    "!pip install mlxtend"
   ]
  },
  {
   "cell_type": "code",
   "execution_count": 12,
   "id": "4e15e7c3-a978-4cb6-a769-a9c1780278a1",
   "metadata": {},
   "outputs": [
    {
     "name": "stdout",
     "output_type": "stream",
     "text": [
      "     support      itemsets\n",
      "0       0.01         (0.3)\n",
      "1       0.01         (1.0)\n",
      "2       0.01         (1.5)\n",
      "3       0.01         (1.6)\n",
      "4       0.01        (10.0)\n",
      "..       ...           ...\n",
      "200     0.01   (33.0, 1.5)\n",
      "201     0.01   (8.4, 11.6)\n",
      "202     0.01  (73.4, 12.9)\n",
      "203     0.01  (17.2, 45.9)\n",
      "204     0.01  (19.6, 45.1)\n",
      "\n",
      "[205 rows x 2 columns]\n"
     ]
    }
   ],
   "source": [
    "from mlxtend.frequent_patterns import apriori\n",
    "from mlxtend.frequent_patterns import association_rules\n",
    "from mlxtend.preprocessing import TransactionEncoder\n",
    "te = TransactionEncoder()\n",
    "te_ary = te.fit(transactions).transform(transactions)\n",
    "df = pd.DataFrame(te_ary, columns=te.columns_)\n",
    "frequent_itemsets = apriori(df, min_support=0.01, use_colnames=True)\n",
    "print(frequent_itemsets)"
   ]
  },
  {
   "cell_type": "code",
   "execution_count": 14,
   "id": "49573c94-6e97-4c61-ba30-20a3ddb7fd0a",
   "metadata": {},
   "outputs": [
    {
     "name": "stdout",
     "output_type": "stream",
     "text": [
      "  antecedents consequents  antecedent support  consequent support  support  \\\n",
      "0      (33.0)       (1.5)               0.015               0.010     0.01   \n",
      "1       (1.5)      (33.0)               0.010               0.015     0.01   \n",
      "2       (8.4)      (11.6)               0.025               0.030     0.01   \n",
      "3      (11.6)       (8.4)               0.030               0.025     0.01   \n",
      "4      (73.4)      (12.9)               0.010               0.025     0.01   \n",
      "5      (12.9)      (73.4)               0.025               0.010     0.01   \n",
      "6      (17.2)      (45.9)               0.020               0.010     0.01   \n",
      "7      (45.9)      (17.2)               0.010               0.020     0.01   \n",
      "8      (19.6)      (45.1)               0.025               0.015     0.01   \n",
      "9      (45.1)      (19.6)               0.015               0.025     0.01   \n",
      "\n",
      "   confidence       lift  leverage  conviction  zhangs_metric  \n",
      "0    0.666667  66.666667  0.009850    2.970000       1.000000  \n",
      "1    1.000000  66.666667  0.009850         inf       0.994949  \n",
      "2    0.400000  13.333333  0.009250    1.616667       0.948718  \n",
      "3    0.333333  13.333333  0.009250    1.462500       0.953608  \n",
      "4    1.000000  40.000000  0.009750         inf       0.984848  \n",
      "5    0.400000  40.000000  0.009750    1.650000       1.000000  \n",
      "6    0.500000  50.000000  0.009800    1.980000       1.000000  \n",
      "7    1.000000  50.000000  0.009800         inf       0.989899  \n",
      "8    0.400000  26.666667  0.009625    1.641667       0.987179  \n",
      "9    0.666667  26.666667  0.009625    2.925000       0.977157  \n"
     ]
    }
   ],
   "source": [
    "rules = association_rules(frequent_itemsets, metric=\"confidence\", min_threshold=0.2)\n",
    "print(rules)"
   ]
  },
  {
   "cell_type": "code",
   "execution_count": 16,
   "id": "f0a222d8-bacd-4cdc-911c-38757d1d338f",
   "metadata": {},
   "outputs": [
    {
     "data": {
      "image/png": "[encoded data removed]",
      "text/plain": [
       "<Figure size 640x480 with 1 Axes>"
      ]
     },
     "metadata": {},
     "output_type": "display_data"
    }
   ],
   "source": [
    "import matplotlib.pyplot as plt\n",
    "plt.scatter(rules['support'], rules['confidence'], alpha=0.5)\n",
    "plt.xlabel('Support')\n",
    "plt.ylabel('Confidence')\n",
    "plt.title('Support vs Confidence')\n",
    "plt.show()"
   ]
  },
  {
   "cell_type": "code",
   "execution_count": 18,
   "id": "69525391-01ec-4e3a-af0f-2213ce77c2d5",
   "metadata": {},
   "outputs": [
    {
     "name": "stdout",
     "output_type": "stream",
     "text": [
      "  antecedents consequents  antecedent support  consequent support  support  \\\n",
      "0      (33.0)       (1.5)               0.015               0.010     0.01   \n",
      "1       (1.5)      (33.0)               0.010               0.015     0.01   \n",
      "2      (73.4)      (12.9)               0.010               0.025     0.01   \n",
      "3      (17.2)      (45.9)               0.020               0.010     0.01   \n",
      "4      (45.9)      (17.2)               0.010               0.020     0.01   \n",
      "5      (45.1)      (19.6)               0.015               0.025     0.01   \n",
      "\n",
      "   confidence       lift  leverage  conviction  zhangs_metric  \n",
      "0    0.666667  66.666667  0.009850       2.970       1.000000  \n",
      "1    1.000000  66.666667  0.009850         inf       0.994949  \n",
      "2    1.000000  40.000000  0.009750         inf       0.984848  \n",
      "3    0.500000  50.000000  0.009800       1.980       1.000000  \n",
      "4    1.000000  50.000000  0.009800         inf       0.989899  \n",
      "5    0.666667  26.666667  0.009625       2.925       0.977157  \n"
     ]
    }
   ],
   "source": [
    "rules_high_confidence = association_rules(frequent_itemsets, metric=\"confidence\", min_threshold=0.5)\n",
    "print(rules_high_confidence)"
   ]
  }
 ],
 "metadata": {
  "kernelspec": {
   "display_name": "Python 3 (ipykernel)",
   "language": "python",
   "name": "python3"
  },
  "language_info": {
   "codemirror_mode": {
    "name": "ipython",
    "version": 3
   },
   "file_extension": ".py",
   "mimetype": "text/x-python",
   "name": "python",
   "nbconvert_exporter": "python",
   "pygments_lexer": "ipython3",
   "version": "3.11.7"
  }
 },
 "nbformat": 4,
 "nbformat_minor": 5
}
